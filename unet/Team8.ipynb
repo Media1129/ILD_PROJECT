{
 "cells": [
  {
   "cell_type": "code",
   "execution_count": null,
   "metadata": {
    "colab": {
     "base_uri": "https://localhost:8080/",
     "height": 128
    },
    "colab_type": "code",
    "executionInfo": {
     "elapsed": 19086,
     "status": "ok",
     "timestamp": 1561094962024,
     "user": {
      "displayName": "F74062044黃政瑋",
      "photoUrl": "https://lh3.googleusercontent.com/-ZcKGwM8zvsw/AAAAAAAAAAI/AAAAAAAAABE/COjCf6bcfcY/s64/photo.jpg",
      "userId": "16348852897560033887"
     },
     "user_tz": -480
    },
    "id": "gGcFxJ0RZz2J",
    "outputId": "369028d2-c7c0-4963-ad90-3c5a09e3f25a"
   },
   "outputs": [],
   "source": [
    "from google.colab import drive\n",
    "\n",
    "drive.mount(\"/content/drive\")"
   ]
  },
  {
   "cell_type": "code",
   "execution_count": null,
   "metadata": {
    "colab": {
     "base_uri": "https://localhost:8080/",
     "height": 35
    },
    "colab_type": "code",
    "executionInfo": {
     "elapsed": 2124,
     "status": "ok",
     "timestamp": 1561094967738,
     "user": {
      "displayName": "F74062044黃政瑋",
      "photoUrl": "https://lh3.googleusercontent.com/-ZcKGwM8zvsw/AAAAAAAAAAI/AAAAAAAAABE/COjCf6bcfcY/s64/photo.jpg",
      "userId": "16348852897560033887"
     },
     "user_tz": -480
    },
    "id": "eC5sCvSdZ3Un",
    "outputId": "7b720693-7c5c-4986-d4cf-4a6d73128c19"
   },
   "outputs": [],
   "source": [
    "import os\n",
    "os.chdir('drive/My Drive/Colab/AIFinal/')\n",
    "!ls"
   ]
  },
  {
   "cell_type": "code",
   "execution_count": null,
   "metadata": {
    "colab": {},
    "colab_type": "code",
    "id": "zBerYwsrZrGc"
   },
   "outputs": [],
   "source": [
    "import os\n",
    "import random\n",
    "import pandas as pd\n",
    "import numpy as np\n",
    "import matplotlib.pyplot as plt\n",
    "plt.style.use(\"ggplot\")\n",
    "%matplotlib inline\n",
    "\n",
    "from tqdm import tqdm_notebook, tnrange\n",
    "from itertools import chain\n",
    "from skimage.io import imread, imshow, concatenate_images\n",
    "from skimage.transform import resize\n",
    "from skimage.morphology import label\n",
    "from sklearn.model_selection import train_test_split\n",
    "\n",
    "import tensorflow as tf\n",
    "\n",
    "from keras.models import Model, load_model\n",
    "from keras.layers import Input, BatchNormalization, Activation, Dense, Dropout\n",
    "from keras.layers.core import Lambda, RepeatVector, Reshape\n",
    "from keras.layers.convolutional import Conv2D, Conv2DTranspose\n",
    "from keras.layers.pooling import MaxPooling2D, GlobalMaxPool2D\n",
    "from keras.layers.merge import concatenate, add\n",
    "from keras.callbacks import EarlyStopping, ModelCheckpoint, ReduceLROnPlateau\n",
    "from keras.optimizers import Adam\n",
    "from keras.preprocessing.image import ImageDataGenerator, array_to_img, img_to_array, load_img"
   ]
  },
  {
   "cell_type": "code",
   "execution_count": null,
   "metadata": {
    "colab": {},
    "colab_type": "code",
    "id": "Ba012UKvYyz0"
   },
   "outputs": [],
   "source": [
    "im_width = 128\n",
    "im_height = 128\n",
    "border = 5\n",
    "path_data = './training/img/'\n",
    "path_label = './training/label/'"
   ]
  },
  {
   "cell_type": "code",
   "execution_count": null,
   "metadata": {
    "colab": {
     "base_uri": "https://localhost:8080/",
     "height": 54
    },
    "colab_type": "code",
    "executionInfo": {
     "elapsed": 498421,
     "status": "ok",
     "timestamp": 1561102526791,
     "user": {
      "displayName": "F74062044黃政瑋",
      "photoUrl": "https://lh3.googleusercontent.com/-ZcKGwM8zvsw/AAAAAAAAAAI/AAAAAAAAABE/COjCf6bcfcY/s64/photo.jpg",
      "userId": "16348852897560033887"
     },
     "user_tz": -480
    },
    "id": "Wgjwg4hAYyz4",
    "outputId": "81aa533b-7a43-4a5a-842e-6680792bd58b"
   },
   "outputs": [],
   "source": [
    "# Get and resize train images and masks\n",
    "\n",
    "x = np.zeros((463, im_height, im_width, 1), dtype=np.float32)\n",
    "y = np.zeros((463, im_height, im_width, 1), dtype=np.float32)\n",
    "\n",
    "index = 0\n",
    "for fname in os.listdir(path_data):\n",
    "    img = load_img(path_data + fname, grayscale=True)\n",
    "    x_img = img_to_array(img)\n",
    "    x_img = resize(x_img, (128, 128, 1), mode='constant', preserve_range=True)\n",
    "\n",
    "    img = load_img(path_label + fname, grayscale=True)\n",
    "    y_img = img_to_array(img)\n",
    "    y_img = resize(y_img, (128, 128, 1), mode='constant', preserve_range=True)\n",
    "    \n",
    "    \n",
    "    # Save images\n",
    "    x[index, ..., 0] = x_img.squeeze() / 255\n",
    "    y[index] = y_img / 255\n",
    "    \n",
    "    index += 1\n",
    "\n",
    "\n"
   ]
  },
  {
   "cell_type": "code",
   "execution_count": null,
   "metadata": {
    "colab": {},
    "colab_type": "code",
    "id": "EJuicT5JzUMb"
   },
   "outputs": [],
   "source": [
    "y"
   ]
  },
  {
   "cell_type": "code",
   "execution_count": null,
   "metadata": {
    "colab": {},
    "colab_type": "code",
    "id": "_sQCAG7cYy0A"
   },
   "outputs": [],
   "source": [
    "# Split train and valid\n",
    "X_train, X_valid, y_train, y_valid = train_test_split(x, y, test_size=0.15, random_state=2018)"
   ]
  },
  {
   "cell_type": "code",
   "execution_count": null,
   "metadata": {
    "colab": {
     "base_uri": "https://localhost:8080/",
     "height": 609
    },
    "colab_type": "code",
    "executionInfo": {
     "elapsed": 1538,
     "status": "ok",
     "timestamp": 1561102596341,
     "user": {
      "displayName": "F74062044黃政瑋",
      "photoUrl": "https://lh3.googleusercontent.com/-ZcKGwM8zvsw/AAAAAAAAAAI/AAAAAAAAABE/COjCf6bcfcY/s64/photo.jpg",
      "userId": "16348852897560033887"
     },
     "user_tz": -480
    },
    "id": "9OJNe40dYy0D",
    "outputId": "52b25608-580f-4d98-bca0-b8d1e2b185a0"
   },
   "outputs": [],
   "source": [
    "ix = random.randint(0, len(X_train))\n",
    "has_mask = y_train[ix].max() > 0\n",
    "\n",
    "fig, ax = plt.subplots(1, 2, figsize=(20, 10))\n",
    "\n",
    "ax[0].imshow(X_train[ix, ..., 0], cmap='seismic', interpolation='bilinear')\n",
    "if has_mask:\n",
    "    ax[0].contour(y_train[ix].squeeze(), colors='k', levels=[0.5])\n",
    "ax[0].set_title('Seismic')\n",
    "\n",
    "ax[1].imshow(y_train[ix].squeeze(), interpolation='bilinear', cmap='gray')\n",
    "ax[1].set_title('Salt');"
   ]
  },
  {
   "cell_type": "code",
   "execution_count": null,
   "metadata": {
    "colab": {},
    "colab_type": "code",
    "id": "Y75zb_UVYy0I"
   },
   "outputs": [],
   "source": [
    "def conv2d_block(input_tensor, n_filters, kernel_size=3, batchnorm=True):\n",
    "    # first layer\n",
    "    x = Conv2D(filters=n_filters, kernel_size=(kernel_size, kernel_size), kernel_initializer=\"he_normal\",\n",
    "               padding=\"same\")(input_tensor)\n",
    "    if batchnorm:\n",
    "        x = BatchNormalization()(x)\n",
    "    x = Activation(\"relu\")(x)\n",
    "    # second layer\n",
    "    x = Conv2D(filters=n_filters, kernel_size=(kernel_size, kernel_size), kernel_initializer=\"he_normal\",\n",
    "               padding=\"same\")(x)\n",
    "    if batchnorm:\n",
    "        x = BatchNormalization()(x)\n",
    "    x = Activation(\"relu\")(x)\n",
    "    return x"
   ]
  },
  {
   "cell_type": "code",
   "execution_count": null,
   "metadata": {
    "colab": {},
    "colab_type": "code",
    "id": "A2xlgQ0-Yy0L"
   },
   "outputs": [],
   "source": [
    "def get_unet(input_img, n_filters=16, dropout=0.5, batchnorm=True):\n",
    "    # contracting path\n",
    "    c1 = conv2d_block(input_img, n_filters=n_filters*1, kernel_size=3, batchnorm=batchnorm)\n",
    "    p1 = MaxPooling2D((2, 2)) (c1)\n",
    "    p1 = Dropout(dropout*0.5)(p1)\n",
    "\n",
    "    c2 = conv2d_block(p1, n_filters=n_filters*2, kernel_size=3, batchnorm=batchnorm)\n",
    "    p2 = MaxPooling2D((2, 2)) (c2)\n",
    "    p2 = Dropout(dropout)(p2)\n",
    "\n",
    "    c3 = conv2d_block(p2, n_filters=n_filters*4, kernel_size=3, batchnorm=batchnorm)\n",
    "    p3 = MaxPooling2D((2, 2)) (c3)\n",
    "    p3 = Dropout(dropout)(p3)\n",
    "\n",
    "    c4 = conv2d_block(p3, n_filters=n_filters*8, kernel_size=3, batchnorm=batchnorm)\n",
    "    p4 = MaxPooling2D(pool_size=(2, 2)) (c4)\n",
    "    p4 = Dropout(dropout)(p4)\n",
    "    \n",
    "    c5 = conv2d_block(p4, n_filters=n_filters*16, kernel_size=3, batchnorm=batchnorm)\n",
    "    \n",
    "    # expansive path\n",
    "    u6 = Conv2DTranspose(n_filters*8, (3, 3), strides=(2, 2), padding='same') (c5)\n",
    "    u6 = concatenate([u6, c4])\n",
    "    u6 = Dropout(dropout)(u6)\n",
    "    c6 = conv2d_block(u6, n_filters=n_filters*8, kernel_size=3, batchnorm=batchnorm)\n",
    "\n",
    "    u7 = Conv2DTranspose(n_filters*4, (3, 3), strides=(2, 2), padding='same') (c6)\n",
    "    u7 = concatenate([u7, c3])\n",
    "    u7 = Dropout(dropout)(u7)\n",
    "    c7 = conv2d_block(u7, n_filters=n_filters*4, kernel_size=3, batchnorm=batchnorm)\n",
    "\n",
    "    u8 = Conv2DTranspose(n_filters*2, (3, 3), strides=(2, 2), padding='same') (c7)\n",
    "    u8 = concatenate([u8, c2])\n",
    "    u8 = Dropout(dropout)(u8)\n",
    "    c8 = conv2d_block(u8, n_filters=n_filters*2, kernel_size=3, batchnorm=batchnorm)\n",
    "\n",
    "    u9 = Conv2DTranspose(n_filters*1, (3, 3), strides=(2, 2), padding='same') (c8)\n",
    "    u9 = concatenate([u9, c1], axis=3)\n",
    "    u9 = Dropout(dropout)(u9)\n",
    "    c9 = conv2d_block(u9, n_filters=n_filters*1, kernel_size=3, batchnorm=batchnorm)\n",
    "    \n",
    "    outputs = Conv2D(1, (1, 1), activation='sigmoid') (c9)\n",
    "    model = Model(inputs=[input_img], outputs=[outputs])\n",
    "    return model"
   ]
  },
  {
   "cell_type": "code",
   "execution_count": null,
   "metadata": {
    "colab": {},
    "colab_type": "code",
    "id": "A0IdplYkYy0O"
   },
   "outputs": [],
   "source": [
    "input_img = Input((im_height, im_width, 1), name='img')\n",
    "model = get_unet(input_img, n_filters=16, dropout=0.05, batchnorm=True)\n",
    "\n",
    "model.compile(optimizer=Adam(), loss=\"binary_crossentropy\", metrics=[\"accuracy\"])\n",
    "# model.summary()"
   ]
  },
  {
   "cell_type": "code",
   "execution_count": null,
   "metadata": {
    "colab": {},
    "colab_type": "code",
    "id": "SDQ2218QYy0X"
   },
   "outputs": [],
   "source": [
    "callbacks = [\n",
    "    EarlyStopping(patience=10, verbose=1),\n",
    "    ReduceLROnPlateau(factor=0.1, patience=3, min_lr=0.00001, verbose=1),\n",
    "    ModelCheckpoint('model-tgs-salt.h5', verbose=1, save_best_only=True, save_weights_only=True)\n",
    "]"
   ]
  },
  {
   "cell_type": "code",
   "execution_count": null,
   "metadata": {
    "colab": {
     "base_uri": "https://localhost:8080/",
     "height": 7417
    },
    "colab_type": "code",
    "executionInfo": {
     "elapsed": 393670,
     "status": "ok",
     "timestamp": 1561107960398,
     "user": {
      "displayName": "F74062044黃政瑋",
      "photoUrl": "https://lh3.googleusercontent.com/-ZcKGwM8zvsw/AAAAAAAAAAI/AAAAAAAAABE/COjCf6bcfcY/s64/photo.jpg",
      "userId": "16348852897560033887"
     },
     "user_tz": -480
    },
    "id": "i_X5VOjfYy0c",
    "outputId": "3910d1d7-b7df-4869-d57e-133a62593aa6"
   },
   "outputs": [],
   "source": [
    "results = model.fit(x, y, batch_size=32, epochs=100, callbacks=callbacks, validation_split=0.3)\n",
    "#                     validation_data=(X_valid, y_valid))"
   ]
  },
  {
   "cell_type": "code",
   "execution_count": null,
   "metadata": {
    "colab": {
     "base_uri": "https://localhost:8080/",
     "height": 517
    },
    "colab_type": "code",
    "executionInfo": {
     "elapsed": 1218,
     "status": "ok",
     "timestamp": 1561112140340,
     "user": {
      "displayName": "F74062044黃政瑋",
      "photoUrl": "https://lh3.googleusercontent.com/-ZcKGwM8zvsw/AAAAAAAAAAI/AAAAAAAAABE/COjCf6bcfcY/s64/photo.jpg",
      "userId": "16348852897560033887"
     },
     "user_tz": -480
    },
    "id": "GKmXZHm8Yy0i",
    "outputId": "3bcb55f3-28b8-427f-a749-d87db7518ed0"
   },
   "outputs": [],
   "source": [
    "plt.figure(figsize=(8, 8))\n",
    "plt.title(\"Learning curve\")\n",
    "plt.plot(results.history[\"loss\"], label=\"loss\")\n",
    "plt.plot(results.history[\"val_loss\"], label=\"val_loss\")\n",
    "plt.plot( np.argmin(results.history[\"val_loss\"]), np.min(results.history[\"val_loss\"]), marker=\"x\", color=\"r\", label=\"best model\")\n",
    "plt.xlabel(\"Epochs\")\n",
    "plt.ylabel(\"log_loss\")\n",
    "plt.legend();"
   ]
  },
  {
   "cell_type": "code",
   "execution_count": null,
   "metadata": {
    "colab": {},
    "colab_type": "code",
    "id": "bCMRK0FsYy0n"
   },
   "outputs": [],
   "source": [
    "# Load best model\n",
    "model.load_weights('model-tgs-salt.h5')"
   ]
  },
  {
   "cell_type": "code",
   "execution_count": null,
   "metadata": {
    "colab": {
     "base_uri": "https://localhost:8080/",
     "height": 54
    },
    "colab_type": "code",
    "executionInfo": {
     "elapsed": 633,
     "status": "ok",
     "timestamp": 1561112237441,
     "user": {
      "displayName": "F74062044黃政瑋",
      "photoUrl": "https://lh3.googleusercontent.com/-ZcKGwM8zvsw/AAAAAAAAAAI/AAAAAAAAABE/COjCf6bcfcY/s64/photo.jpg",
      "userId": "16348852897560033887"
     },
     "user_tz": -480
    },
    "id": "PjWXA9LbYy0r",
    "outputId": "582afc4e-9f5f-4fa7-e0f4-98203d57e26a"
   },
   "outputs": [],
   "source": [
    "# Evaluate on validation set (this must be equals to the best log_loss)\n",
    "model.evaluate(X_valid, y_valid, verbose=1)\n"
   ]
  },
  {
   "cell_type": "code",
   "execution_count": null,
   "metadata": {
    "colab": {
     "base_uri": "https://localhost:8080/",
     "height": 54
    },
    "colab_type": "code",
    "executionInfo": {
     "elapsed": 5762,
     "status": "ok",
     "timestamp": 1561112244661,
     "user": {
      "displayName": "F74062044黃政瑋",
      "photoUrl": "https://lh3.googleusercontent.com/-ZcKGwM8zvsw/AAAAAAAAAAI/AAAAAAAAABE/COjCf6bcfcY/s64/photo.jpg",
      "userId": "16348852897560033887"
     },
     "user_tz": -480
    },
    "id": "2jtNI8xAYy0w",
    "outputId": "eaa81ea8-7c17-44c2-d4e9-17fc685b2ca1"
   },
   "outputs": [],
   "source": [
    "# Predict on train, val and test\n",
    "preds_train = model.predict(X_train, verbose=1)\n",
    "preds_val = model.predict(X_valid, verbose=1)\n",
    "\n",
    "# Threshold predictions\n",
    "preds_train_t = (preds_train > 0.5).astype(np.uint8)\n",
    "preds_val_t = (preds_val > 0.5).astype(np.uint8)"
   ]
  },
  {
   "cell_type": "code",
   "execution_count": null,
   "metadata": {
    "colab": {},
    "colab_type": "code",
    "id": "yEmJG9IVYy00"
   },
   "outputs": [],
   "source": [
    "def plot_sample(X, y, preds, binary_preds, ix=None):\n",
    "    if ix is None:\n",
    "        ix = random.randint(0, len(X))\n",
    "\n",
    "    has_mask = y[ix].max() > 0\n",
    "\n",
    "    fig, ax = plt.subplots(1, 3, figsize=(20, 10))\n",
    "    ax[0].imshow(X[ix, ..., 0],cmap='gray')\n",
    "    if has_mask:\n",
    "        ax[0].contour(y[ix].squeeze(), colors='k', levels=[0.5])\n",
    "    ax[0].set_title('Phone')\n",
    "\n",
    "    ax[1].imshow(y[ix].squeeze(),cmap='bwr')\n",
    "    ax[1].set_title('Scratch')\n",
    "\n",
    "    ax[2].imshow(softmax(preds[ix].squeeze())*255)#, vmin=0, vmax=1,cmap='bwr')\n",
    "    if has_mask:\n",
    "        ax[2].contour(preds[ix].squeeze(), colors='k', levels=[0.2])\n",
    "    ax[2].set_title('Scratch Predicted')\n",
    "    \n",
    "#     ax[3].imshow(binary_preds[ix].squeeze(), vmin=0, vmax=1,cmap='bwr')\n",
    "#     if has_mask:\n",
    "#         ax[3].contour(y[ix].squeeze(), colors='k', levels=[0.3])\n",
    "#     ax[3].set_title('Scratch Predicted binary');"
   ]
  },
  {
   "cell_type": "code",
   "execution_count": null,
   "metadata": {
    "colab": {
     "base_uri": "https://localhost:8080/",
     "height": 394
    },
    "colab_type": "code",
    "executionInfo": {
     "elapsed": 2033,
     "status": "ok",
     "timestamp": 1561119767736,
     "user": {
      "displayName": "F74062044黃政瑋",
      "photoUrl": "https://lh3.googleusercontent.com/-ZcKGwM8zvsw/AAAAAAAAAAI/AAAAAAAAABE/COjCf6bcfcY/s64/photo.jpg",
      "userId": "16348852897560033887"
     },
     "user_tz": -480
    },
    "id": "cCDxtvQDYy05",
    "outputId": "a3c5044f-d79d-4cdd-f4cc-5fed0afa3d80"
   },
   "outputs": [],
   "source": [
    "# Check if training data looks all right\n",
    "# plot_sample(X_train, y_train, preds_train, preds_train_t, ix=250)\n",
    "\n",
    "plot_sample(X_valid, y_valid, preds_val, preds_val_t, ix=22)"
   ]
  },
  {
   "cell_type": "code",
   "execution_count": null,
   "metadata": {
    "colab": {
     "base_uri": "https://localhost:8080/",
     "height": 35
    },
    "colab_type": "code",
    "executionInfo": {
     "elapsed": 639,
     "status": "ok",
     "timestamp": 1561114103710,
     "user": {
      "displayName": "F74062044黃政瑋",
      "photoUrl": "https://lh3.googleusercontent.com/-ZcKGwM8zvsw/AAAAAAAAAAI/AAAAAAAAABE/COjCf6bcfcY/s64/photo.jpg",
      "userId": "16348852897560033887"
     },
     "user_tz": -480
    },
    "id": "4JfDQ47FYy1B",
    "outputId": "fd54790e-cd37-42d5-b9a3-a93d210136a7"
   },
   "outputs": [],
   "source": [
    "preds_val[25].max()"
   ]
  },
  {
   "cell_type": "code",
   "execution_count": null,
   "metadata": {
    "colab": {},
    "colab_type": "code",
    "id": "johjR7C63DMG"
   },
   "outputs": [],
   "source": [
    "import scipy\n",
    "def softmax(x):\n",
    "    return scipy.special.softmax(x)"
   ]
  },
  {
   "cell_type": "code",
   "execution_count": null,
   "metadata": {
    "colab": {
     "base_uri": "https://localhost:8080/",
     "height": 35
    },
    "colab_type": "code",
    "executionInfo": {
     "elapsed": 776,
     "status": "ok",
     "timestamp": 1561119469457,
     "user": {
      "displayName": "F74062044黃政瑋",
      "photoUrl": "https://lh3.googleusercontent.com/-ZcKGwM8zvsw/AAAAAAAAAAI/AAAAAAAAABE/COjCf6bcfcY/s64/photo.jpg",
      "userId": "16348852897560033887"
     },
     "user_tz": -480
    },
    "id": "KoxGEg4gYy1I",
    "outputId": "29e9777f-8d11-4930-e552-7a6140785079"
   },
   "outputs": [],
   "source": [
    "white_sum = 0\n",
    "white_overlap = 0\n",
    "IoU = 0\n",
    "\n",
    "i = 47\n",
    "for j in range(128):\n",
    "    for k in range(128):\n",
    "        if y_valid[i, j, k, 0]*255 >= 10 or preds_val[i, j, k, 0]*255 > 10:\n",
    "            white_sum += 1\n",
    "        if y_valid[i, j, k, 0]*255 >= 10 and preds_val[i, j, k, 0]*255 > 10:\n",
    "            white_overlap += 1\n",
    "IoU += white_overlap / white_sum\n",
    "    \n",
    "        \n",
    "               \n",
    "IoU\n"
   ]
  },
  {
   "cell_type": "code",
   "execution_count": null,
   "metadata": {
    "colab": {
     "base_uri": "https://localhost:8080/",
     "height": 35
    },
    "colab_type": "code",
    "executionInfo": {
     "elapsed": 423,
     "status": "ok",
     "timestamp": 1561117825961,
     "user": {
      "displayName": "F74062044黃政瑋",
      "photoUrl": "https://lh3.googleusercontent.com/-ZcKGwM8zvsw/AAAAAAAAAAI/AAAAAAAAABE/COjCf6bcfcY/s64/photo.jpg",
      "userId": "16348852897560033887"
     },
     "user_tz": -480
    },
    "id": "1L_yzsA0IAgK",
    "outputId": "1c919369-cd18-469d-d931-41724ace0b7c"
   },
   "outputs": [],
   "source": [
    "# np.unique(preds_val[5].squeeze()*255)\n",
    "index"
   ]
  },
  {
   "cell_type": "code",
   "execution_count": null,
   "metadata": {
    "colab": {
     "base_uri": "https://localhost:8080/",
     "height": 35
    },
    "colab_type": "code",
    "executionInfo": {
     "elapsed": 840,
     "status": "ok",
     "timestamp": 1561118161244,
     "user": {
      "displayName": "F74062044黃政瑋",
      "photoUrl": "https://lh3.googleusercontent.com/-ZcKGwM8zvsw/AAAAAAAAAAI/AAAAAAAAABE/COjCf6bcfcY/s64/photo.jpg",
      "userId": "16348852897560033887"
     },
     "user_tz": -480
    },
    "id": "Idq3eRBZl-UF",
    "outputId": "de64b2cd-2af4-4c1c-87eb-76ed1def5078"
   },
   "outputs": [],
   "source": [
    "temp[0,0]"
   ]
  },
  {
   "cell_type": "code",
   "execution_count": null,
   "metadata": {
    "colab": {},
    "colab_type": "code",
    "id": "QYLrPzbg48H8"
   },
   "outputs": [],
   "source": []
  }
 ],
 "metadata": {
  "accelerator": "GPU",
  "colab": {
   "collapsed_sections": [],
   "name": "T2.ipynb",
   "provenance": [],
   "version": "0.3.2"
  },
  "kernelspec": {
   "display_name": "Python 3",
   "language": "python",
   "name": "python3"
  },
  "language_info": {
   "codemirror_mode": {
    "name": "ipython",
    "version": 3
   },
   "file_extension": ".py",
   "mimetype": "text/x-python",
   "name": "python",
   "nbconvert_exporter": "python",
   "pygments_lexer": "ipython3",
   "version": "3.7.4"
  }
 },
 "nbformat": 4,
 "nbformat_minor": 1
}
