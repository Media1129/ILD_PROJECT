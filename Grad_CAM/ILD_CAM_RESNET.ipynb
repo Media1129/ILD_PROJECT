{
 "cells": [
  {
   "cell_type": "code",
   "execution_count": 32,
   "metadata": {},
   "outputs": [],
   "source": [
    "import os\n",
    "\n",
    "import cv2\n",
    "from keras import backend as K\n",
    "from keras.preprocessing import image\n",
    "from keras.applications import imagenet_utils\n",
    "from keras.applications.resnet50 import ResNet50, preprocess_input\n",
    "from keras.models import load_model\n",
    "from matplotlib import pyplot as plt\n",
    "import numpy as np"
   ]
  },
  {
   "cell_type": "code",
   "execution_count": 33,
   "metadata": {},
   "outputs": [],
   "source": [
    "def processing_image(img_path):\n",
    "    # 讀取影像為 PIL 影像\n",
    "    img = image.load_img(img_path, target_size=(224, 224))\n",
    "    \n",
    "    # 轉換 PIL 影像為 nparray\n",
    "    x = image.img_to_array(img)\n",
    "    \n",
    "    # 加上一個 batch size，例如轉換 (224, 224, 3) 為 （1, 224, 224, 3) \n",
    "    x = np.expand_dims(x, axis=0)\n",
    "    \n",
    "    # 將 RBG 轉換為 BGR，並解減去各通道平均\n",
    "    x = preprocess_input(x)\n",
    "    \n",
    "    return x"
   ]
  },
  {
   "cell_type": "code",
   "execution_count": 34,
   "metadata": {},
   "outputs": [],
   "source": [
    "def gradcam(model, x):\n",
    "    # 取得影像的分類類別\n",
    "    preds = model.predict(x)\n",
    "    pred_class = np.argmax(preds[0])\n",
    "    \n",
    "    # 取得影像分類名稱\n",
    "#     pred_class_name = imagenet_utils.decode_predictions(preds)[0][0][1]\n",
    "    \n",
    "    # 預測分類的輸出向量\n",
    "    pred_output = model.output[:, pred_class]\n",
    "    \n",
    "    # 最後一層 convolution layer 輸出的 feature map\n",
    "    # ResNet 的最後一層 convolution layer\n",
    "    last_conv_layer = model.get_layer('res5c_branch2c')\n",
    "    \n",
    "    # 求得分類的神經元對於最後一層 convolution layer 的梯度\n",
    "    grads = K.gradients(pred_output, last_conv_layer.output)[0]\n",
    "    \n",
    "    # 求得針對每個 feature map 的梯度加總\n",
    "    pooled_grads = K.sum(grads, axis=(0, 1, 2))\n",
    "    \n",
    "    # K.function() 讓我們可以藉由輸入影像至 `model.input` 得到 `pooled_grads` 與\n",
    "    # `last_conv_layer[0]` 的輸出值，像似在 Tensorflow 中定義計算圖後使用 feed_dict\n",
    "    # 的方式。\n",
    "    iterate = K.function([model.input], [pooled_grads, last_conv_layer.output[0]])\n",
    "    \n",
    "    # 傳入影像矩陣 x，並得到分類對 feature map 的梯度與最後一層 convolution layer 的 \n",
    "    # feature map\n",
    "    pooled_grads_value, conv_layer_output_value = iterate([x])\n",
    "    \n",
    "    # 將 feature map 乘以權重，等於該 feature map 中的某些區域對於該分類的重要性\n",
    "    for i in range(pooled_grads_value.shape[0]):\n",
    "        conv_layer_output_value[:, :, i] *= (pooled_grads_value[i])\n",
    "\n",
    "    # 計算 feature map 的 channel-wise 加總\n",
    "    heatmap = np.sum(conv_layer_output_value, axis=-1)\n",
    "    \n",
    "    return heatmap"
   ]
  },
  {
   "cell_type": "code",
   "execution_count": 35,
   "metadata": {},
   "outputs": [],
   "source": [
    "def plot_heatmap(heatmap, img_path, filename):\n",
    "    # ReLU\n",
    "    heatmap = np.maximum(heatmap, 0)\n",
    "    # 正規化\n",
    "    heatmap /= np.max(heatmap)\n",
    "    # 讀取影像\n",
    "    img = cv2.imread(img_path)\n",
    "    fig, ax = plt.subplots()\n",
    "    im = cv2.resize(cv2.cvtColor(cv2.imread(img_path), cv2.COLOR_BGR2RGB), (img.shape[1], img.shape[0]))\n",
    "    # 拉伸 heatmap\n",
    "    heatmap = cv2.resize(heatmap, (img.shape[1], img.shape[0]))\n",
    "    heatmap = np.uint8(255 * heatmap)\n",
    "    # 以 0.6 透明度繪製原始影像\n",
    "    ax.imshow(im, alpha=0.6)\n",
    "    # 以 0.4 透明度繪製熱力圖\n",
    "    im = ax.imshow(heatmap, cmap='jet', alpha=0.4)\n",
    "    fig.colorbar(im, ax=ax)\n",
    "    \n",
    "    plt.savefig(filename)\n",
    "    plt.show()"
   ]
  },
  {
   "cell_type": "code",
   "execution_count": 36,
   "metadata": {},
   "outputs": [],
   "source": [
    "def predict(img_path, model):\n",
    "    img = image.load_img(img_path, target_size=(224, 224))\n",
    "    x = image.img_to_array(img)\n",
    "    x = np.expand_dims(x, axis=0)\n",
    "    preds = model.predict(x)\n",
    "    # calculate the prediction type\n",
    "    # print(\"pred1=%f pred2=%f\" % (preds[0][0],preds[0][1]))\n",
    "    if preds[0][0] > preds[0][1]:\n",
    "        print(\"ILD\")\n",
    "    else:\n",
    "        print(\"Normal\")\n",
    "    return "
   ]
  },
  {
   "cell_type": "code",
   "execution_count": 37,
   "metadata": {},
   "outputs": [],
   "source": [
    "model = load_model(\"../../model_output/020_train.h5\")"
   ]
  },
  {
   "cell_type": "code",
   "execution_count": 55,
   "metadata": {},
   "outputs": [
    {
     "name": "stdout",
     "output_type": "stream",
     "text": [
      "Normal\n"
     ]
    }
   ],
   "source": [
    "img_path = '../../ILD_DATA/cut_store/ALL_ILD/1/1_19.jpg'\n",
    "img = processing_image(img_path)\n",
    "heatmap = gradcam(model, img)\n",
    "# plot_heatmap(heatmap, img_path,'../../ILD_DATA/output_pic/1_19.png')\n",
    "predict(img_path,model)"
   ]
  },
  {
   "cell_type": "code",
   "execution_count": 56,
   "metadata": {},
   "outputs": [
    {
     "name": "stdout",
     "output_type": "stream",
     "text": [
      "ILD\n"
     ]
    }
   ],
   "source": [
    "img_path = '../../ILD_DATA/cut_store/ALL_ILD/5/5_23.jpg'\n",
    "img = processing_image(img_path)\n",
    "heatmap = gradcam(model, img)\n",
    "# plot_heatmap(heatmap, img_path,'../../ILD_DATA/output_pic/5_23.png')\n",
    "predict(img_path,model)"
   ]
  },
  {
   "cell_type": "code",
   "execution_count": 57,
   "metadata": {},
   "outputs": [
    {
     "name": "stdout",
     "output_type": "stream",
     "text": [
      "ILD\n"
     ]
    }
   ],
   "source": [
    "img_path = '../../ILD_DATA/cut_store/ALL_ILD/7/7_23.jpg'\n",
    "img = processing_image(img_path)\n",
    "heatmap = gradcam(model, img)\n",
    "# plot_heatmap(heatmap, img_path,'../../ILD_DATA/output_pic/7_23.png')\n",
    "predict(img_path,model)"
   ]
  },
  {
   "cell_type": "code",
   "execution_count": 58,
   "metadata": {},
   "outputs": [
    {
     "name": "stdout",
     "output_type": "stream",
     "text": [
      "ILD\n"
     ]
    }
   ],
   "source": [
    "img_path = '../../ILD_DATA/cut_store/ALL_ILD/9/9_23.jpg'\n",
    "img = processing_image(img_path)\n",
    "heatmap = gradcam(model, img)\n",
    "# plot_heatmap(heatmap, img_path,'../../ILD_DATA/output_pic/9_23.png')\n",
    "predict(img_path,model)"
   ]
  },
  {
   "cell_type": "code",
   "execution_count": 59,
   "metadata": {},
   "outputs": [
    {
     "name": "stdout",
     "output_type": "stream",
     "text": [
      "Normal\n"
     ]
    }
   ],
   "source": [
    "img_path = '../../ILD_DATA/cut_store/ALL_NORMAL/11/11_35.jpg'\n",
    "img = processing_image(img_path)\n",
    "heatmap = gradcam(model, img)\n",
    "# plot_heatmap(heatmap, img_path,'../../ILD_DATA/output_pic/11_35.png')\n",
    "predict(img_path,model)"
   ]
  },
  {
   "cell_type": "code",
   "execution_count": 60,
   "metadata": {},
   "outputs": [
    {
     "name": "stdout",
     "output_type": "stream",
     "text": [
      "Normal\n"
     ]
    }
   ],
   "source": [
    "img_path = '../../ILD_DATA/cut_store/ALL_NORMAL/12/12_25.jpg'\n",
    "img = processing_image(img_path)\n",
    "heatmap = gradcam(model, img)\n",
    "# plot_heatmap(heatmap, img_path,'../../ILD_DATA/output_pic/12_25.png')\n",
    "predict(img_path,model)"
   ]
  },
  {
   "cell_type": "code",
   "execution_count": 61,
   "metadata": {},
   "outputs": [
    {
     "name": "stdout",
     "output_type": "stream",
     "text": [
      "Normal\n"
     ]
    }
   ],
   "source": [
    "img_path = '../../ILD_DATA/cut_store/ALL_NORMAL/13/13_15.jpg'\n",
    "img = processing_image(img_path)\n",
    "heatmap = gradcam(model, img)\n",
    "# plot_heatmap(heatmap, img_path,'../../ILD_DATA/output_pic/13_15.png')\n",
    "predict(img_path,model)"
   ]
  },
  {
   "cell_type": "code",
   "execution_count": 62,
   "metadata": {},
   "outputs": [
    {
     "name": "stdout",
     "output_type": "stream",
     "text": [
      "Normal\n"
     ]
    }
   ],
   "source": [
    "img_path = '../../ILD_DATA/cut_store/ALL_NORMAL/14/14_35.jpg'\n",
    "img = processing_image(img_path)\n",
    "heatmap = gradcam(model, img)\n",
    "# plot_heatmap(heatmap, img_path,'../../ILD_DATA/output_pic/14_35.png')\n",
    "predict(img_path,model)"
   ]
  },
  {
   "cell_type": "code",
   "execution_count": null,
   "metadata": {},
   "outputs": [],
   "source": []
  },
  {
   "cell_type": "code",
   "execution_count": null,
   "metadata": {},
   "outputs": [],
   "source": []
  }
 ],
 "metadata": {
  "kernelspec": {
   "display_name": "Python 3",
   "language": "python",
   "name": "python3"
  },
  "language_info": {
   "codemirror_mode": {
    "name": "ipython",
    "version": 3
   },
   "file_extension": ".py",
   "mimetype": "text/x-python",
   "name": "python",
   "nbconvert_exporter": "python",
   "pygments_lexer": "ipython3",
   "version": "3.6.9"
  }
 },
 "nbformat": 4,
 "nbformat_minor": 2
}
